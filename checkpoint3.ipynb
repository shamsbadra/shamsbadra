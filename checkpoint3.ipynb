{
 "cells": [
  {
   "cell_type": "code",
   "execution_count": 8,
   "id": "45554abb",
   "metadata": {},
   "outputs": [
    {
     "name": "stdout",
     "output_type": "stream",
     "text": [
      "35\n"
     ]
    }
   ],
   "source": [
    "#question1\n",
    "def max(a,b,c): \n",
    "    if a<b<c:\n",
    "        largest=c\n",
    "    elif c<a<b:\n",
    "        largest=b \n",
    "    elif b<c<a:\n",
    "        largest=a\n",
    "    return largest\n",
    "a=20\n",
    "b=35\n",
    "c=19\n",
    "print(max(a,b,c))"
   ]
  },
  {
   "cell_type": "code",
   "execution_count": 1,
   "id": "9eaf017a",
   "metadata": {},
   "outputs": [
    {
     "name": "stdout",
     "output_type": "stream",
     "text": [
      "(50, 30)\n"
     ]
    }
   ],
   "source": [
    "#question2\n",
    "def calculation(a,b):\n",
    "    return a+b,a-b\n",
    "a=40\n",
    "b=10\n",
    "print(calculation(a,b))"
   ]
  },
  {
   "cell_type": "code",
   "execution_count": 15,
   "id": "213ed3dc",
   "metadata": {},
   "outputs": [
    {
     "name": "stdout",
     "output_type": "stream",
     "text": [
      "combien de nombre5\n",
      "entrez un nombre 4\n",
      "entrez un nombre 5\n",
      "entrez un nombre 6\n",
      "entrez un nombre 7\n",
      "entrez un nombre 8\n",
      "la somme des nombre pairs est  3\n",
      "le produit des nombres impairs est  35\n",
      "None\n"
     ]
    }
   ],
   "source": [
    "#question3\n",
    "list=[]\n",
    "x=int(input(\"combien de nombre\"))\n",
    "for i in range (x):\n",
    "    data=int (input(\"entrez un nombre \"))\n",
    "    list.append(data)\n",
    "\n",
    "def sum(list):\n",
    "    s=0\n",
    "    for i in list:\n",
    "        s=s+1\n",
    "    return(s)\n",
    "\n",
    "def prod(mylist) :\n",
    "    k= 1\n",
    "    for x in mylist:\n",
    "        k = k*x\n",
    "    return k\n",
    "\n",
    "def odd_even (list ): \n",
    "    list1=[]\n",
    "    list2=[]\n",
    "    i=0\n",
    "    for x in list:\n",
    "        b=i%2\n",
    "        i+=1\n",
    "        if b==0:\n",
    "            list1.append(x)\n",
    "        else :\n",
    "            list2.append(x)\n",
    "    print(\"la somme des nombre pairs est \", sum(list1))\n",
    "    print(\"le produit des nombres impairs est \", prod(list2))\n",
    "\n",
    "\n",
    "\n",
    "print(odd_even(list))"
   ]
  },
  {
   "cell_type": "code",
   "execution_count": 16,
   "id": "4397ff46",
   "metadata": {},
   "outputs": [
    {
     "name": "stdout",
     "output_type": "stream",
     "text": [
      "green-red-yellow-black-white\n",
      "black-green-red-white-yellow\n"
     ]
    }
   ],
   "source": [
    "items=[n for n in input().split('-')]\n",
    "items.sort()\n",
    "print('-'.join(items))"
   ]
  },
  {
   "cell_type": "code",
   "execution_count": null,
   "id": "94aa2daf",
   "metadata": {},
   "outputs": [],
   "source": []
  }
 ],
 "metadata": {
  "kernelspec": {
   "display_name": "Python 3",
   "language": "python",
   "name": "python3"
  },
  "language_info": {
   "codemirror_mode": {
    "name": "ipython",
    "version": 3
   },
   "file_extension": ".py",
   "mimetype": "text/x-python",
   "name": "python",
   "nbconvert_exporter": "python",
   "pygments_lexer": "ipython3",
   "version": "3.8.8"
  }
 },
 "nbformat": 4,
 "nbformat_minor": 5
}
