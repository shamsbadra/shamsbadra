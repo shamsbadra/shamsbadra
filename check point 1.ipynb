{
 "cells": [
  {
   "cell_type": "code",
   "execution_count": 1,
   "id": "41ee4852",
   "metadata": {},
   "outputs": [
    {
     "name": "stdout",
     "output_type": "stream",
     "text": [
      "first name?shams\n",
      "last name?badra\n",
      "badra   shams\n"
     ]
    }
   ],
   "source": [
    "a=input(\"first name?\")\n",
    "b=input(\"last name?\") \n",
    "print(b,\" \",a)#expose le nom de famille et prénom "
   ]
  },
  {
   "cell_type": "code",
   "execution_count": 3,
   "id": "39c73bc6",
   "metadata": {},
   "outputs": [
    {
     "name": "stdout",
     "output_type": "stream",
     "text": [
      "615\n"
     ]
    }
   ],
   "source": [
    "n=5\n",
    "a=n+11*n+111*n #calcule 5+55+555\n",
    "print(a)"
   ]
  },
  {
   "cell_type": "code",
   "execution_count": 14,
   "id": "820e18e5",
   "metadata": {},
   "outputs": [
    {
     "name": "stdout",
     "output_type": "stream",
     "text": [
      "choisissez un nombre4\n",
      "4 is even\n"
     ]
    }
   ],
   "source": [
    "n=int(input(\"choisissez un nombre\")) #utilisateur chosie un nbr\n",
    "if n % 2 == 0 :\n",
    "    print(n, \"is even\")\n",
    "else:\n",
    "    print(n, \"is odd\")\n",
    "    \n",
    "    #le nombre est pair ou impair"
   ]
  },
  {
   "cell_type": "code",
   "execution_count": 5,
   "id": "35731a28",
   "metadata": {},
   "outputs": [
    {
     "name": "stdout",
     "output_type": "stream",
     "text": [
      "2002 2009 2016 2023 2037 2044 2051 2058 2072 2079 2086 2093 2107 2114 2121 2128 2142 2149 2156 2163 2177 2184 2191 2198 2212 2219 2226 2233 2247 2254 2261 2268 2282 2289 2296 2303 2317 2324 2331 2338 2352 2359 2366 2373 2387 2394 2401 2408 2422 2429 2436 2443 2457 2464 2471 2478 2492 2499 2506 2513 2527 2534 2541 2548 2562 2569 2576 2583 2597 2604 2611 2618 2632 2639 2646 2653 2667 2674 2681 2688 2702 2709 2716 2723 2737 2744 2751 2758 2772 2779 2786 2793 2807 2814 2821 2828 2842 2849 2856 2863 2877 2884 2891 2898 2912 2919 2926 2933 2947 2954 2961 2968 2982 2989 2996 3003 3017 3024 3031 3038 3052 3059 3066 3073 3087 3094 3101 3108 3122 3129 3136 3143 3157 3164 3171 3178 3192 3199 "
     ]
    }
   ],
   "source": [
    "for x in range(2000,3201):\n",
    "    begin=\" \" #des espaces entre les nombres \n",
    "    if x % 7 ==0 and x % 5 !=0 :#le nombre doit etre divisible par 7 mais pas un multiple de 5 \n",
    "        print(x, end=\" \")"
   ]
  },
  {
   "cell_type": "code",
   "execution_count": 6,
   "id": "40ed8401",
   "metadata": {},
   "outputs": [
    {
     "name": "stdout",
     "output_type": "stream",
     "text": [
      "Entrez un nombre : 8\n",
      "8 ! =  40320\n"
     ]
    }
   ],
   "source": [
    "nbr = int(input('Entrez un nombre : '))\n",
    "fact = 1\n",
    "for i in range(1, nbr+1):\n",
    "  fact = fact * i\n",
    "print (nbr,'! = ',fact)"
   ]
  },
  {
   "cell_type": "code",
   "execution_count": 16,
   "id": "cce171cb",
   "metadata": {},
   "outputs": [
    {
     "name": "stdout",
     "output_type": "stream",
     "text": [
      "Entrez un motgomycode\n",
      "gmcd\n"
     ]
    }
   ],
   "source": [
    "mot=input(\"Entrez un mot\")\n",
    "n=len(mot)\n",
    "nouveau=\"\"\n",
    "i=0\n",
    "while i<len(mot)-1:\n",
    "    if i%2==0:\n",
    "        nouveau=nouveau+mot[i]\n",
    "    i=i+1\n",
    "print(nouveau)"
   ]
  },
  {
   "cell_type": "code",
   "execution_count": 26,
   "id": "588bfffa",
   "metadata": {},
   "outputs": [
    {
     "name": "stdout",
     "output_type": "stream",
     "text": [
      "le prix?300\n",
      "210.0\n"
     ]
    }
   ],
   "source": [
    "prix=int(input(\"le prix?\"))\n",
    "\n",
    "if prix > 500:\n",
    "     prix=prix*0.5\n",
    "elif 200<prix<500 :\n",
    "    prix=prix*0.7\n",
    "elif  prix<200 :\n",
    "    prix=prix*0.9\n",
    "    \n",
    "print(prix)\n",
    "    "
   ]
  },
  {
   "cell_type": "code",
   "execution_count": null,
   "id": "2cdb54b6",
   "metadata": {},
   "outputs": [],
   "source": []
  }
 ],
 "metadata": {
  "kernelspec": {
   "display_name": "Python 3",
   "language": "python",
   "name": "python3"
  },
  "language_info": {
   "codemirror_mode": {
    "name": "ipython",
    "version": 3
   },
   "file_extension": ".py",
   "mimetype": "text/x-python",
   "name": "python",
   "nbconvert_exporter": "python",
   "pygments_lexer": "ipython3",
   "version": "3.8.8"
  }
 },
 "nbformat": 4,
 "nbformat_minor": 5
}
